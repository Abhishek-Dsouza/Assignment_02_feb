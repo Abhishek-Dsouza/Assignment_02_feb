{
 "cells": [
  {
   "cell_type": "markdown",
   "id": "c50dac2d-5883-4616-92ca-55abc659677b",
   "metadata": {},
   "source": [
    "# Assignment "
   ]
  },
  {
   "cell_type": "markdown",
   "id": "26cfaffe-81f9-4d62-8aa3-9274752281ee",
   "metadata": {},
   "source": [
    "### Question 1 : Explain with an example each when to use a for loop and a while loop.\n",
    "\n",
    "#### Answer:- For Loop - A for loop is a control flow statement that allows you to execute a block of code repeatedly until a certain condition is met. It is used to iterate over a range of values or a collection of elements. The for loop consists of an initialization statement, a condition, and an iteration statement. It is a commonly used loop in programming, and it is available in most programming languages."
   ]
  },
  {
   "cell_type": "markdown",
   "id": "3515a743-e86b-4818-ad8c-a2c79fee7263",
   "metadata": {},
   "source": [
    "#### Example Of For Loop."
   ]
  },
  {
   "cell_type": "code",
   "execution_count": 13,
   "id": "505f0c95-7466-41dd-8752-8eefd93f5f96",
   "metadata": {},
   "outputs": [
    {
     "name": "stdout",
     "output_type": "stream",
     "text": [
      "1\n",
      "2\n",
      "3\n",
      "4\n",
      "5\n",
      "6\n",
      "7\n",
      "8\n",
      "9\n"
     ]
    }
   ],
   "source": [
    "for i in range(1,10):\n",
    "    print(i)"
   ]
  },
  {
   "cell_type": "markdown",
   "id": "77b7965d-7e9c-45fd-bf17-4993e3954a10",
   "metadata": {},
   "source": [
    "#### While Loop - A while loop is a control flow statement that allows you to repeatedly execute a block of code as long as a specific condition is true. It is used when you do not know how many times the loop will need to be executed before the condition is met. The while loop checks the condition at the beginning of each iteration, and if the condition is true, the code within the loop will be executed. This will continue until the condition becomes false, at which point the loop will exit. The syntax of the while loop includes the keyword \"while,\" the condition in parentheses, and the code block to be executed in curly braces."
   ]
  },
  {
   "cell_type": "markdown",
   "id": "57df13ee-9669-43db-b25d-83da30032330",
   "metadata": {},
   "source": [
    "#### Example Of While Loop."
   ]
  },
  {
   "cell_type": "code",
   "execution_count": 3,
   "id": "f941a5ca-b032-4b2d-94d3-defe07ccb074",
   "metadata": {},
   "outputs": [
    {
     "name": "stdout",
     "output_type": "stream",
     "text": [
      "1\n",
      "2\n",
      "3\n",
      "4\n",
      "5\n",
      "6\n",
      "7\n",
      "8\n",
      "9\n",
      "10\n"
     ]
    }
   ],
   "source": [
    "i=1\n",
    "while i <=10:\n",
    "    print(i)\n",
    "    i=i+1"
   ]
  },
  {
   "cell_type": "markdown",
   "id": "9b67bae7-874e-45ed-adaa-d7839787b18b",
   "metadata": {},
   "source": [
    "### Question 2 :- Write a python program to print the sum and product of the first 10 natural numbers using for and while loop."
   ]
  },
  {
   "cell_type": "markdown",
   "id": "1f030588-2a69-4ad7-af84-5cd8ee18a307",
   "metadata": {},
   "source": [
    "#### Answer:- Using for Loop."
   ]
  },
  {
   "cell_type": "code",
   "execution_count": 8,
   "id": "338df352-ba99-4223-b8f0-611a93f65440",
   "metadata": {},
   "outputs": [
    {
     "name": "stdout",
     "output_type": "stream",
     "text": [
      "Sum of The 10 Natural Number is  55\n",
      "Product of the First 10 Natural Number is  3628800\n"
     ]
    }
   ],
   "source": [
    "sum = 0\n",
    "product = 1\n",
    "for i in range(1,11):\n",
    "    sum = sum+i\n",
    "    product = product*i\n",
    "print(\"Sum of The 10 Natural Number is \",sum)\n",
    "print(\"Product of the First 10 Natural Number is \",product)\n",
    "\n"
   ]
  },
  {
   "cell_type": "markdown",
   "id": "6605f4e4-5f43-4502-af33-24d1e84d1995",
   "metadata": {},
   "source": [
    "#### Using While Loop."
   ]
  },
  {
   "cell_type": "code",
   "execution_count": 11,
   "id": "73cd6464-bd56-4524-9905-ea3214c2ca4b",
   "metadata": {},
   "outputs": [
    {
     "name": "stdout",
     "output_type": "stream",
     "text": [
      "Sum of The 10 Natural Number is  55\n",
      "Product of the First 10 Natural Number is  3628800\n"
     ]
    }
   ],
   "source": [
    "sum = 0\n",
    "product = 1\n",
    "i = 1\n",
    "while i <=10:\n",
    "    sum = sum+i\n",
    "    product = product*i\n",
    "    i=i+1\n",
    "print(\"Sum of The 10 Natural Number is \",sum)\n",
    "print(\"Product of the First 10 Natural Number is \",product)\n"
   ]
  },
  {
   "cell_type": "markdown",
   "id": "7e251423-55ab-48c3-9329-78b7e6be2b97",
   "metadata": {},
   "source": [
    "### Question 3 :- Create a python program to compute the electricity bill for a household. The per-unit charges in rupees are as follows: For the first 100 units, the user will be charged Rs. 4.5 per unit, for the next 100 units, the user will be charged Rs. 6 per unit, and for the next 100 units, the user will be charged Rs. 10 per unit, After 300 units and above the user will be charged Rs. 20 per unit. You are required to take the units of electricity consumed in a month from the user as input.Your program must pass this test case: when the unit of electricity consumed by the user in a month is 310, the total electricity bill should be 2250."
   ]
  },
  {
   "cell_type": "markdown",
   "id": "d79a0076-92ed-4672-9ea8-3694282d845a",
   "metadata": {},
   "source": [
    "#### Answer:-"
   ]
  },
  {
   "cell_type": "code",
   "execution_count": 14,
   "id": "2b13658a-dbb2-4ef4-8326-c9a4e9271a69",
   "metadata": {},
   "outputs": [
    {
     "name": "stdin",
     "output_type": "stream",
     "text": [
      "Enter the units of electricity consumed:  4000\n"
     ]
    },
    {
     "name": "stdout",
     "output_type": "stream",
     "text": [
      "Your electricity bill for  4000  units is:  76050.0  rupees\n"
     ]
    }
   ],
   "source": [
    "units = int(input(\"Enter the units of electricity consumed: \"))\n",
    "if units <= 100:\n",
    "    bill = units * 4.5\n",
    "elif units <= 200:\n",
    "    bill = 100 * 4.5 + (units - 100) * 6\n",
    "elif units <= 300:\n",
    "    bill = 100 * 4.5 + 100 * 6 + (units - 200) * 10\n",
    "else:\n",
    "    bill = 100 * 4.5 + 100 * 6 + 100 * 10 + (units - 300) * 20\n",
    "print(\"Your electricity bill for \",units,\" units is: \",bill,\" rupees\")"
   ]
  },
  {
   "cell_type": "markdown",
   "id": "d8658076-2d9a-4a67-a333-8892b0e0dadc",
   "metadata": {},
   "source": [
    "### Question 4 :- Create a list of numbers from 1 to 100. Use for loop and while loop to calculate the cube of each number and if the cube of that number is divisible by 4 or 5 then append that number in a list and print that list."
   ]
  },
  {
   "cell_type": "markdown",
   "id": "e643ff00-1785-4505-b5cb-d1ce9575798a",
   "metadata": {},
   "source": [
    "#### Answer:-"
   ]
  },
  {
   "cell_type": "code",
   "execution_count": 48,
   "id": "7f492b7d-ec09-4ce1-b4d4-2b29e0d758a2",
   "metadata": {},
   "outputs": [
    {
     "data": {
      "text/plain": [
       "[1,\n",
       " 8,\n",
       " 27,\n",
       " 64,\n",
       " 125,\n",
       " 216,\n",
       " 343,\n",
       " 512,\n",
       " 729,\n",
       " 1000,\n",
       " 1331,\n",
       " 1728,\n",
       " 2197,\n",
       " 2744,\n",
       " 3375,\n",
       " 4096,\n",
       " 4913,\n",
       " 5832,\n",
       " 6859,\n",
       " 8000,\n",
       " 9261,\n",
       " 10648,\n",
       " 12167,\n",
       " 13824,\n",
       " 15625,\n",
       " 17576,\n",
       " 19683,\n",
       " 21952,\n",
       " 24389,\n",
       " 27000,\n",
       " 29791,\n",
       " 32768,\n",
       " 35937,\n",
       " 39304,\n",
       " 42875,\n",
       " 46656,\n",
       " 50653,\n",
       " 54872,\n",
       " 59319,\n",
       " 64000,\n",
       " 68921,\n",
       " 74088,\n",
       " 79507,\n",
       " 85184,\n",
       " 91125,\n",
       " 97336,\n",
       " 103823,\n",
       " 110592,\n",
       " 117649,\n",
       " 125000,\n",
       " 132651,\n",
       " 140608,\n",
       " 148877,\n",
       " 157464,\n",
       " 166375,\n",
       " 175616,\n",
       " 185193,\n",
       " 195112,\n",
       " 205379,\n",
       " 216000,\n",
       " 226981,\n",
       " 238328,\n",
       " 250047,\n",
       " 262144,\n",
       " 274625,\n",
       " 287496,\n",
       " 300763,\n",
       " 314432,\n",
       " 328509,\n",
       " 343000,\n",
       " 357911,\n",
       " 373248,\n",
       " 389017,\n",
       " 405224,\n",
       " 421875,\n",
       " 438976,\n",
       " 456533,\n",
       " 474552,\n",
       " 493039,\n",
       " 512000,\n",
       " 531441,\n",
       " 551368,\n",
       " 571787,\n",
       " 592704,\n",
       " 614125,\n",
       " 636056,\n",
       " 658503,\n",
       " 681472,\n",
       " 704969,\n",
       " 729000,\n",
       " 753571,\n",
       " 778688,\n",
       " 804357,\n",
       " 830584,\n",
       " 857375,\n",
       " 884736,\n",
       " 912673,\n",
       " 941192,\n",
       " 970299,\n",
       " 1000000]"
      ]
     },
     "execution_count": 48,
     "metadata": {},
     "output_type": "execute_result"
    }
   ],
   "source": [
    "# Using for loop.\n",
    "\n",
    "l1=[]\n",
    "for i in range(1,101):\n",
    "    cube = i**3\n",
    "    if cube % 4==0 or cube % 5==0:\n",
    "        l1.append(cube)\n",
    "\n",
    "cubes\n",
    "    "
   ]
  },
  {
   "cell_type": "code",
   "execution_count": 47,
   "id": "2ca454cf-ab77-48fc-9fad-6639d6c84ef4",
   "metadata": {},
   "outputs": [
    {
     "data": {
      "text/plain": [
       "[1,\n",
       " 8,\n",
       " 27,\n",
       " 64,\n",
       " 125,\n",
       " 216,\n",
       " 343,\n",
       " 512,\n",
       " 729,\n",
       " 1000,\n",
       " 1331,\n",
       " 1728,\n",
       " 2197,\n",
       " 2744,\n",
       " 3375,\n",
       " 4096,\n",
       " 4913,\n",
       " 5832,\n",
       " 6859,\n",
       " 8000,\n",
       " 9261,\n",
       " 10648,\n",
       " 12167,\n",
       " 13824,\n",
       " 15625,\n",
       " 17576,\n",
       " 19683,\n",
       " 21952,\n",
       " 24389,\n",
       " 27000,\n",
       " 29791,\n",
       " 32768,\n",
       " 35937,\n",
       " 39304,\n",
       " 42875,\n",
       " 46656,\n",
       " 50653,\n",
       " 54872,\n",
       " 59319,\n",
       " 64000,\n",
       " 68921,\n",
       " 74088,\n",
       " 79507,\n",
       " 85184,\n",
       " 91125,\n",
       " 97336,\n",
       " 103823,\n",
       " 110592,\n",
       " 117649,\n",
       " 125000,\n",
       " 132651,\n",
       " 140608,\n",
       " 148877,\n",
       " 157464,\n",
       " 166375,\n",
       " 175616,\n",
       " 185193,\n",
       " 195112,\n",
       " 205379,\n",
       " 216000,\n",
       " 226981,\n",
       " 238328,\n",
       " 250047,\n",
       " 262144,\n",
       " 274625,\n",
       " 287496,\n",
       " 300763,\n",
       " 314432,\n",
       " 328509,\n",
       " 343000,\n",
       " 357911,\n",
       " 373248,\n",
       " 389017,\n",
       " 405224,\n",
       " 421875,\n",
       " 438976,\n",
       " 456533,\n",
       " 474552,\n",
       " 493039,\n",
       " 512000,\n",
       " 531441,\n",
       " 551368,\n",
       " 571787,\n",
       " 592704,\n",
       " 614125,\n",
       " 636056,\n",
       " 658503,\n",
       " 681472,\n",
       " 704969,\n",
       " 729000,\n",
       " 753571,\n",
       " 778688,\n",
       " 804357,\n",
       " 830584,\n",
       " 857375,\n",
       " 884736,\n",
       " 912673,\n",
       " 941192,\n",
       " 970299,\n",
       " 1000000]"
      ]
     },
     "execution_count": 47,
     "metadata": {},
     "output_type": "execute_result"
    }
   ],
   "source": [
    "#Using While loop.\n",
    "\n",
    "i=1\n",
    "cubes=[]\n",
    "while i <=100:\n",
    "    cube=i**3\n",
    "    cubes.append(cube)\n",
    "    i=i+1\n",
    "cubes"
   ]
  },
  {
   "cell_type": "markdown",
   "id": "2c0e0c09-6b5f-430f-993a-4db5ed7e8dd1",
   "metadata": {},
   "source": [
    "### Question 5 :-Write a program to filter count vowels in the below-given string. string = \"I want to become a data scientist\"."
   ]
  },
  {
   "cell_type": "markdown",
   "id": "86d82141-4b84-4474-804b-2e25e3f00de3",
   "metadata": {},
   "source": [
    "#### Answer:-"
   ]
  },
  {
   "cell_type": "code",
   "execution_count": 54,
   "id": "f5048201-2bd5-4ed7-891d-6a1ed643f29b",
   "metadata": {},
   "outputs": [
    {
     "name": "stdout",
     "output_type": "stream",
     "text": [
      "Numbers of Vowels in String Is:  12\n"
     ]
    }
   ],
   "source": [
    "String = \"I want to become a data scientist\"\n",
    "vowels = \"aeiou\"\n",
    "count = 0\n",
    "for char in string:\n",
    "    if char.lower() in vowels:\n",
    "        count=count+1\n",
    "print(\"Numbers of Vowels in String Is: \",count)"
   ]
  },
  {
   "cell_type": "code",
   "execution_count": null,
   "id": "7a828ebd-48f4-4341-bea1-46e3aac5e60d",
   "metadata": {},
   "outputs": [],
   "source": []
  },
  {
   "cell_type": "code",
   "execution_count": null,
   "id": "e0f24826-e10c-44fc-ad88-6af8aa84a068",
   "metadata": {},
   "outputs": [],
   "source": []
  }
 ],
 "metadata": {
  "kernelspec": {
   "display_name": "Python 3 (ipykernel)",
   "language": "python",
   "name": "python3"
  },
  "language_info": {
   "codemirror_mode": {
    "name": "ipython",
    "version": 3
   },
   "file_extension": ".py",
   "mimetype": "text/x-python",
   "name": "python",
   "nbconvert_exporter": "python",
   "pygments_lexer": "ipython3",
   "version": "3.10.8"
  }
 },
 "nbformat": 4,
 "nbformat_minor": 5
}
